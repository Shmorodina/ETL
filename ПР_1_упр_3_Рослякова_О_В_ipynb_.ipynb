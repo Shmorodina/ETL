{
  "nbformat": 4,
  "nbformat_minor": 0,
  "metadata": {
    "colab": {
      "provenance": [],
      "authorship_tag": "ABX9TyONxbl14x81mLen22RYwBxy",
      "include_colab_link": true
    },
    "kernelspec": {
      "name": "python3",
      "display_name": "Python 3"
    },
    "language_info": {
      "name": "python"
    }
  },
  "cells": [
    {
      "cell_type": "markdown",
      "metadata": {
        "id": "view-in-github",
        "colab_type": "text"
      },
      "source": [
        "<a href=\"https://colab.research.google.com/github/Shmorodina/ETL/blob/main/%D0%9F%D0%A0_1_%D1%83%D0%BF%D1%80_3_%D0%A0%D0%BE%D1%81%D0%BB%D1%8F%D0%BA%D0%BE%D0%B2%D0%B0_%D0%9E_%D0%92_ipynb_.ipynb\" target=\"_parent\"><img src=\"https://colab.research.google.com/assets/colab-badge.svg\" alt=\"Open In Colab\"/></a>"
      ]
    },
    {
      "cell_type": "markdown",
      "source": [
        "# **Упражнение 3** Парсинг коллекции данных на Портале открытых данных"
      ],
      "metadata": {
        "id": "t4Pq4XJ4zwez"
      }
    },
    {
      "cell_type": "markdown",
      "source": [
        " **7 вариант**. Социальная среда. Так как не получилось соединиться с росстатом использовала публичное тестовое API (CoinDesk - показывает индекс цен на биткоин (BPI) в режиме реального времени.)\n",
        "\n"
      ],
      "metadata": {
        "id": "r3IszfDXcjoX"
      }
    },
    {
      "cell_type": "code",
      "source": [
        "# Импорт стандартных пакетов\n",
        "import pandas as pd\n",
        "\n",
        "# Для парсинга веб-страниц\n",
        "import requests as reqs\n",
        "import urllib.request\n",
        "from bs4 import BeautifulSoup\n",
        "import json\n",
        "import os\n",
        "import pprint\n",
        "\n",
        "# Для выполнения операций с регулярными выражениями\n",
        "import re"
      ],
      "metadata": {
        "id": "foOSb2I_o4lV"
      },
      "execution_count": null,
      "outputs": []
    },
    {
      "cell_type": "code",
      "source": [
        "api_url ='https://api.coindesk.com/v1/bpi/currentprice.json'"
      ],
      "metadata": {
        "id": "MOQz2KfRbPfT"
      },
      "execution_count": null,
      "outputs": []
    },
    {
      "cell_type": "code",
      "source": [
        "resp = reqs.request(method='GET', url=api_url)"
      ],
      "metadata": {
        "id": "dZSK6abcpMEB"
      },
      "execution_count": null,
      "outputs": []
    },
    {
      "cell_type": "code",
      "source": [
        "json_page = resp.json()\n",
        "file_name = \"Coin.json\"\n",
        "with open(file_name, \"w\") as fid:\n",
        "     json.dump(json_page, fid)"
      ],
      "metadata": {
        "id": "Y8Gz6rygV0OL"
      },
      "execution_count": null,
      "outputs": []
    },
    {
      "cell_type": "code",
      "source": [
        "!cat Coin.json"
      ],
      "metadata": {
        "colab": {
          "base_uri": "https://localhost:8080/"
        },
        "id": "V-_HzWKzb4Ud",
        "outputId": "0330e3d6-d0fd-4bcb-e90f-8850ed07f0f0"
      },
      "execution_count": null,
      "outputs": [
        {
          "output_type": "stream",
          "name": "stdout",
          "text": [
            "{\"time\": {\"updated\": \"Feb 16, 2024 19:38:21 UTC\", \"updatedISO\": \"2024-02-16T19:38:21+00:00\", \"updateduk\": \"Feb 16, 2024 at 19:38 GMT\"}, \"disclaimer\": \"This data was produced from the CoinDesk Bitcoin Price Index (USD). Non-USD currency data converted using hourly conversion rate from openexchangerates.org\", \"chartName\": \"Bitcoin\", \"bpi\": {\"USD\": {\"code\": \"USD\", \"symbol\": \"&#36;\", \"rate\": \"51,868.064\", \"description\": \"United States Dollar\", \"rate_float\": 51868.0644}, \"GBP\": {\"code\": \"GBP\", \"symbol\": \"&pound;\", \"rate\": \"41,101.914\", \"description\": \"British Pound Sterling\", \"rate_float\": 41101.914}, \"EUR\": {\"code\": \"EUR\", \"symbol\": \"&euro;\", \"rate\": \"48,092.329\", \"description\": \"Euro\", \"rate_float\": 48092.3287}}}"
          ]
        }
      ]
    },
    {
      "cell_type": "code",
      "source": [
        "with open(file_name, \"r\") as fid:\n",
        "     json_obj = json.load(fid)\n",
        "\n",
        "print(json_obj)"
      ],
      "metadata": {
        "colab": {
          "base_uri": "https://localhost:8080/"
        },
        "id": "cISoIxbIb8NO",
        "outputId": "c2727219-4d25-47ca-922d-67f8f44bfedb"
      },
      "execution_count": null,
      "outputs": [
        {
          "output_type": "stream",
          "name": "stdout",
          "text": [
            "{'time': {'updated': 'Feb 16, 2024 19:38:21 UTC', 'updatedISO': '2024-02-16T19:38:21+00:00', 'updateduk': 'Feb 16, 2024 at 19:38 GMT'}, 'disclaimer': 'This data was produced from the CoinDesk Bitcoin Price Index (USD). Non-USD currency data converted using hourly conversion rate from openexchangerates.org', 'chartName': 'Bitcoin', 'bpi': {'USD': {'code': 'USD', 'symbol': '&#36;', 'rate': '51,868.064', 'description': 'United States Dollar', 'rate_float': 51868.0644}, 'GBP': {'code': 'GBP', 'symbol': '&pound;', 'rate': '41,101.914', 'description': 'British Pound Sterling', 'rate_float': 41101.914}, 'EUR': {'code': 'EUR', 'symbol': '&euro;', 'rate': '48,092.329', 'description': 'Euro', 'rate_float': 48092.3287}}}\n"
          ]
        }
      ]
    },
    {
      "cell_type": "code",
      "source": [
        "for key in json_obj:\n",
        "    print(\"{:>12}: {}\".format(key, json_obj[key]))"
      ],
      "metadata": {
        "colab": {
          "base_uri": "https://localhost:8080/"
        },
        "id": "cz6Y_JgNb-vk",
        "outputId": "3df3b712-9fc6-4b2b-a8b1-b26d5804cbe0"
      },
      "execution_count": null,
      "outputs": [
        {
          "output_type": "stream",
          "name": "stdout",
          "text": [
            "        time: {'updated': 'Feb 16, 2024 19:38:21 UTC', 'updatedISO': '2024-02-16T19:38:21+00:00', 'updateduk': 'Feb 16, 2024 at 19:38 GMT'}\n",
            "  disclaimer: This data was produced from the CoinDesk Bitcoin Price Index (USD). Non-USD currency data converted using hourly conversion rate from openexchangerates.org\n",
            "   chartName: Bitcoin\n",
            "         bpi: {'USD': {'code': 'USD', 'symbol': '&#36;', 'rate': '51,868.064', 'description': 'United States Dollar', 'rate_float': 51868.0644}, 'GBP': {'code': 'GBP', 'symbol': '&pound;', 'rate': '41,101.914', 'description': 'British Pound Sterling', 'rate_float': 41101.914}, 'EUR': {'code': 'EUR', 'symbol': '&euro;', 'rate': '48,092.329', 'description': 'Euro', 'rate_float': 48092.3287}}\n"
          ]
        }
      ]
    },
    {
      "cell_type": "code",
      "source": [
        "response = reqs.get(api_url)"
      ],
      "metadata": {
        "id": "G0uZixOUb_x3"
      },
      "execution_count": null,
      "outputs": []
    },
    {
      "cell_type": "code",
      "source": [
        "if response.status_code == 200:\n",
        "   json_page = json.loads(response.text)"
      ],
      "metadata": {
        "id": "G_AKFKpocELj"
      },
      "execution_count": null,
      "outputs": []
    },
    {
      "cell_type": "code",
      "source": [
        "print(f\"URL: \\n\\t {response.url}\")"
      ],
      "metadata": {
        "colab": {
          "base_uri": "https://localhost:8080/"
        },
        "id": "noyzLBz-cHNz",
        "outputId": "f8b675b5-40c0-4a2e-932e-54322952226d"
      },
      "execution_count": null,
      "outputs": [
        {
          "output_type": "stream",
          "name": "stdout",
          "text": [
            "URL: \n",
            "\t https://api.coindesk.com/v1/bpi/currentprice.json\n"
          ]
        }
      ]
    },
    {
      "cell_type": "code",
      "source": [
        "print(f\"Content type: \\n\\t {response.headers['content-type']}\")"
      ],
      "metadata": {
        "colab": {
          "base_uri": "https://localhost:8080/"
        },
        "id": "pMG22_zlcMd9",
        "outputId": "32e460ff-b1b6-4a5a-cfa2-943a4f3f904d"
      },
      "execution_count": null,
      "outputs": [
        {
          "output_type": "stream",
          "name": "stdout",
          "text": [
            "Content type: \n",
            "\t application/json; charset=utf-8\n"
          ]
        }
      ]
    },
    {
      "cell_type": "code",
      "source": [
        "if response.status_code == 200:\n",
        "   json_page = json.loads(response.text)"
      ],
      "metadata": {
        "id": "7jay95sYcQfi"
      },
      "execution_count": null,
      "outputs": []
    },
    {
      "cell_type": "code",
      "source": [
        "for x in json_page:\n",
        "    print(x)"
      ],
      "metadata": {
        "colab": {
          "base_uri": "https://localhost:8080/"
        },
        "id": "jMhKIA7scS94",
        "outputId": "73281cfa-7f5f-44ca-dcd8-839fcf6b97e4"
      },
      "execution_count": null,
      "outputs": [
        {
          "output_type": "stream",
          "name": "stdout",
          "text": [
            "time\n",
            "disclaimer\n",
            "chartName\n",
            "bpi\n"
          ]
        }
      ]
    },
    {
      "cell_type": "code",
      "source": [
        "for x in json_page:\n",
        "    print(f\"{x} --> {json_page[x]} \\n\")"
      ],
      "metadata": {
        "colab": {
          "base_uri": "https://localhost:8080/"
        },
        "id": "0Dr_UFFfcXLi",
        "outputId": "30427d74-ec07-4eeb-bc94-16f618e2ea51"
      },
      "execution_count": null,
      "outputs": [
        {
          "output_type": "stream",
          "name": "stdout",
          "text": [
            "time --> {'updated': 'Feb 16, 2024 19:41:21 UTC', 'updatedISO': '2024-02-16T19:41:21+00:00', 'updateduk': 'Feb 16, 2024 at 19:41 GMT'} \n",
            "\n",
            "disclaimer --> This data was produced from the CoinDesk Bitcoin Price Index (USD). Non-USD currency data converted using hourly conversion rate from openexchangerates.org \n",
            "\n",
            "chartName --> Bitcoin \n",
            "\n",
            "bpi --> {'USD': {'code': 'USD', 'symbol': '&#36;', 'rate': '51,909.021', 'description': 'United States Dollar', 'rate_float': 51909.021}, 'GBP': {'code': 'GBP', 'symbol': '&pound;', 'rate': '41,134.369', 'description': 'British Pound Sterling', 'rate_float': 41134.3693}, 'EUR': {'code': 'EUR', 'symbol': '&euro;', 'rate': '48,130.304', 'description': 'Euro', 'rate_float': 48130.3038}} \n",
            "\n"
          ]
        }
      ]
    },
    {
      "cell_type": "code",
      "source": [
        "pprint.pprint(json_page)"
      ],
      "metadata": {
        "colab": {
          "base_uri": "https://localhost:8080/"
        },
        "id": "R29TuwtRccKE",
        "outputId": "51629d3e-3ea5-4d87-b0de-3b89eb76b675"
      },
      "execution_count": null,
      "outputs": [
        {
          "output_type": "stream",
          "name": "stdout",
          "text": [
            "{'bpi': {'EUR': {'code': 'EUR',\n",
            "                 'description': 'Euro',\n",
            "                 'rate': '48,130.304',\n",
            "                 'rate_float': 48130.3038,\n",
            "                 'symbol': '&euro;'},\n",
            "         'GBP': {'code': 'GBP',\n",
            "                 'description': 'British Pound Sterling',\n",
            "                 'rate': '41,134.369',\n",
            "                 'rate_float': 41134.3693,\n",
            "                 'symbol': '&pound;'},\n",
            "         'USD': {'code': 'USD',\n",
            "                 'description': 'United States Dollar',\n",
            "                 'rate': '51,909.021',\n",
            "                 'rate_float': 51909.021,\n",
            "                 'symbol': '&#36;'}},\n",
            " 'chartName': 'Bitcoin',\n",
            " 'disclaimer': 'This data was produced from the CoinDesk Bitcoin Price Index '\n",
            "               '(USD). Non-USD currency data converted using hourly conversion '\n",
            "               'rate from openexchangerates.org',\n",
            " 'time': {'updated': 'Feb 16, 2024 19:41:21 UTC',\n",
            "          'updatedISO': '2024-02-16T19:41:21+00:00',\n",
            "          'updateduk': 'Feb 16, 2024 at 19:41 GMT'}}\n"
          ]
        }
      ]
    }
  ]
}